{
 "cells": [
  {
   "cell_type": "markdown",
   "id": "43a808da-5ad6-4045-8097-952cfbb9e3c4",
   "metadata": {},
   "source": [
    "### **Python Basics II**"
   ]
  },
  {
   "cell_type": "markdown",
   "id": "49494a35-07e5-49f6-b552-5d4b1d351ffb",
   "metadata": {
    "jp-MarkdownHeadingCollapsed": true,
    "tags": []
   },
   "source": [
    "#### *In Operator*"
   ]
  },
  {
   "cell_type": "code",
   "execution_count": 1,
   "id": "41eaf6b6-ff02-4a9f-8854-dc3a93220176",
   "metadata": {},
   "outputs": [
    {
     "data": {
      "text/plain": [
       "True"
      ]
     },
     "execution_count": 1,
     "metadata": {},
     "output_type": "execute_result"
    }
   ],
   "source": [
    "game = ['Saurabh', 'Dera', 'Medikate', 'Matka King']\n",
    "'Dera' in game"
   ]
  },
  {
   "cell_type": "code",
   "execution_count": 2,
   "id": "d77a2973-f8a3-4749-ba32-828a3efdcf3d",
   "metadata": {},
   "outputs": [
    {
     "data": {
      "text/plain": [
       "False"
      ]
     },
     "execution_count": 2,
     "metadata": {},
     "output_type": "execute_result"
    }
   ],
   "source": [
    "x = ['Saurabh', 'Dera', 'Medikate', 'Matka King']\n",
    "'Aayush' in x"
   ]
  },
  {
   "cell_type": "markdown",
   "id": "09ad0ebd-052b-4814-8449-4213b090e4c2",
   "metadata": {
    "jp-MarkdownHeadingCollapsed": true,
    "tags": []
   },
   "source": [
    "#### *If Else Condition*"
   ]
  },
  {
   "cell_type": "code",
   "execution_count": 3,
   "id": "302c5c34-8ae4-4fe1-94ec-56eed2dc559b",
   "metadata": {},
   "outputs": [
    {
     "name": "stdout",
     "output_type": "stream",
     "text": [
      "Dera is in PUBG Group\n"
     ]
    }
   ],
   "source": [
    "PUBG_Group = ['Saurabh', 'Dera', 'Medikate', 'Matka King']\n",
    "\n",
    "# if True:\n",
    "# if 1 == 1:\n",
    "if 'Dera' in PUBG_Group:\n",
    "    print('Dera is in PUBG Group')\n",
    "else:\n",
    "    print('Dera not in PUBG Group')"
   ]
  },
  {
   "cell_type": "code",
   "execution_count": 4,
   "id": "4f1ece3f-28ab-47fb-97d9-160688ce90f8",
   "metadata": {},
   "outputs": [
    {
     "name": "stdout",
     "output_type": "stream",
     "text": [
      "Free Fire\n"
     ]
    }
   ],
   "source": [
    "PUBG_Group = ['Saurabh', 'Dera', 'Medikate', 'Matka King']\n",
    "\n",
    "if 'Aayush' in PUBG_Group:\n",
    "    print('BGMI')\n",
    "elif 'Suman' in PUBG_Group:\n",
    "    print('PUBG')\n",
    "else:    \n",
    "    print('Free Fire')"
   ]
  },
  {
   "cell_type": "code",
   "execution_count": 5,
   "id": "d4a22888-6878-401d-9202-5f389c5f1ebb",
   "metadata": {},
   "outputs": [
    {
     "name": "stdout",
     "output_type": "stream",
     "text": [
      "Squad Full, Play PUBG !!!\n"
     ]
    }
   ],
   "source": [
    "PUBG_Group = ['Saurabh', 'Dera', 'Medikate', 'Matka King']\n",
    "\n",
    "if 'Dera' in PUBG_Group:\n",
    "    if 'Saurabh' in PUBG_Group:\n",
    "        if 'Medikate' in PUBG_Group:\n",
    "            if 'Matka King' in PUBG_Group:\n",
    "                print('Squad Full, Play PUBG !!!')\n",
    "            else:\n",
    "                print('Call Raj')\n",
    "        else:\n",
    "            print('Call Raj & Matka King')\n",
    "    else:\n",
    "        print('Call Raj , Medikate', 'Matka King')\n",
    "else:\n",
    "    print('Kal hi khelte hai')\n",
    "    "
   ]
  },
  {
   "cell_type": "markdown",
   "id": "8d686638-9694-4911-a4c7-265aa790577b",
   "metadata": {
    "jp-MarkdownHeadingCollapsed": true,
    "tags": []
   },
   "source": [
    "#### *For Loop*"
   ]
  },
  {
   "cell_type": "code",
   "execution_count": 6,
   "id": "d6e7ad80-d9d6-4de8-8571-68a0c08683c8",
   "metadata": {},
   "outputs": [
    {
     "name": "stdout",
     "output_type": "stream",
     "text": [
      "Saurabh is at Diamond Level\n",
      "Dera is at Diamond Level\n",
      "Medikate is at Diamond Level\n",
      "Matka King is at Diamond Level\n"
     ]
    }
   ],
   "source": [
    "# Normal FOR Loop\n",
    "PUBG_Group = ['Saurabh', 'Dera', 'Medikate', 'Matka King']\n",
    "\n",
    "for player in PUBG_Group:\n",
    "    print(f'{player} is at Diamond Level')\n",
    "    "
   ]
  },
  {
   "cell_type": "code",
   "execution_count": 7,
   "id": "7b32e1ef-0e08-421d-a239-e6aba026f78c",
   "metadata": {},
   "outputs": [
    {
     "name": "stdout",
     "output_type": "stream",
     "text": [
      "Real Name: Dera ,Gaming Name: Jeff_Clair\n",
      "Real Name: Anjani ,Gaming Name: Medikate\n",
      "Real Name: Himanshu ,Gaming Name: Matka King\n",
      "Real Name: Saurabh ,Gaming Name: Drago Ash\n"
     ]
    }
   ],
   "source": [
    "# Unpacking uing For Loop\n",
    "gaming_name = [('Dera','Jeff_Clair'),('Anjani','Medikate'),('Himanshu','Matka King'),('Saurabh','Drago Ash')]\n",
    "\n",
    "for o, g in gaming_name:\n",
    "    print(f'Real Name: {o} ,Gaming Name: {g}')"
   ]
  },
  {
   "cell_type": "markdown",
   "id": "fd8b1795-db20-467e-99a6-abf69bb67178",
   "metadata": {
    "jp-MarkdownHeadingCollapsed": true,
    "tags": []
   },
   "source": [
    "#### *While Loops*"
   ]
  },
  {
   "cell_type": "code",
   "execution_count": 8,
   "id": "5cddbf2c-8aad-4ac3-802a-3e3e254e0d1d",
   "metadata": {},
   "outputs": [
    {
     "name": "stdout",
     "output_type": "stream",
     "text": [
      "Number : 1\n",
      "Number : 2\n",
      "Number : 3\n",
      "Number : 4\n",
      "Number : 5\n"
     ]
    }
   ],
   "source": [
    "# Basic While Loop:\n",
    "i = 0\n",
    "while ( i < 5 ):\n",
    "    i += 1\n",
    "    print(f'Number : {i}')"
   ]
  },
  {
   "cell_type": "code",
   "execution_count": 9,
   "id": "a94ca4e5-1839-446a-9038-da4358b7fa19",
   "metadata": {},
   "outputs": [
    {
     "name": "stdout",
     "output_type": "stream",
     "text": [
      "Real Name: Dera ,Gaming Name: Jeff_Clair\n",
      "Real Name: Anjani ,Gaming Name: Medikate\n",
      "Real Name: Himanshu ,Gaming Name: Matka King\n",
      "Real Name: Saurabh ,Gaming Name: Drago Ash\n"
     ]
    }
   ],
   "source": [
    "# Unpacking Using While Loop\n",
    "gaming_name = [('Dera','Jeff_Clair'),('Anjani','Medikate'),('Himanshu','Matka King'),('Saurabh','Drago Ash')]\n",
    "\n",
    "i = 0\n",
    "while i < len(gaming_name):\n",
    "    print(f'Real Name: {gaming_name[i][0]} ,Gaming Name: {gaming_name[i][1]}')\n",
    "    i += 1 "
   ]
  },
  {
   "cell_type": "markdown",
   "id": "15427420-1a29-44f7-891a-5afaa3dbb0b5",
   "metadata": {
    "jp-MarkdownHeadingCollapsed": true,
    "tags": []
   },
   "source": [
    "#### *Defing Functions*"
   ]
  },
  {
   "cell_type": "code",
   "execution_count": 10,
   "id": "ea096f27-d09c-4522-8b29-e8494373e592",
   "metadata": {},
   "outputs": [
    {
     "name": "stdout",
     "output_type": "stream",
     "text": [
      "PUBG version is 1.9\n"
     ]
    }
   ],
   "source": [
    "# Function without return statement\n",
    "def pubg():\n",
    "    print('PUBG version is 1.9')\n",
    "\n",
    "pubg()"
   ]
  },
  {
   "cell_type": "code",
   "execution_count": 11,
   "id": "f708d1a9-7248-41f6-b541-ce14afcf7d18",
   "metadata": {},
   "outputs": [
    {
     "name": "stdout",
     "output_type": "stream",
     "text": [
      "7\n",
      "None\n"
     ]
    },
    {
     "ename": "TypeError",
     "evalue": "unsupported operand type(s) for +: 'NoneType' and 'int'",
     "output_type": "error",
     "traceback": [
      "\u001b[1;31m---------------------------------------------------------------------------\u001b[0m",
      "\u001b[1;31mTypeError\u001b[0m                                 Traceback (most recent call last)",
      "\u001b[1;32m~\\AppData\\Local\\Temp/ipykernel_16560/1166990577.py\u001b[0m in \u001b[0;36m<module>\u001b[1;34m\u001b[0m\n\u001b[0;32m      5\u001b[0m \u001b[0mx\u001b[0m \u001b[1;33m=\u001b[0m \u001b[0msumx\u001b[0m\u001b[1;33m(\u001b[0m\u001b[1;36m2\u001b[0m\u001b[1;33m,\u001b[0m\u001b[1;36m5\u001b[0m\u001b[1;33m)\u001b[0m\u001b[1;33m\u001b[0m\u001b[1;33m\u001b[0m\u001b[0m\n\u001b[0;32m      6\u001b[0m \u001b[0mprint\u001b[0m\u001b[1;33m(\u001b[0m\u001b[0mx\u001b[0m\u001b[1;33m)\u001b[0m \u001b[1;31m# Prints None\u001b[0m\u001b[1;33m\u001b[0m\u001b[1;33m\u001b[0m\u001b[0m\n\u001b[1;32m----> 7\u001b[1;33m \u001b[0mprint\u001b[0m\u001b[1;33m(\u001b[0m \u001b[0mx\u001b[0m \u001b[1;33m+\u001b[0m \u001b[1;36m1\u001b[0m\u001b[1;33m)\u001b[0m\u001b[1;33m\u001b[0m\u001b[1;33m\u001b[0m\u001b[0m\n\u001b[0m",
      "\u001b[1;31mTypeError\u001b[0m: unsupported operand type(s) for +: 'NoneType' and 'int'"
     ]
    }
   ],
   "source": [
    "# function without return Statement\n",
    "def sumx(a,b):\n",
    "    print(a+b)\n",
    "\n",
    "x = sumx(2,5)\n",
    "print(x) # Prints None\n",
    "print( x + 1)"
   ]
  },
  {
   "cell_type": "code",
   "execution_count": 12,
   "id": "9601c7cd-c227-456b-adb3-a21e6bd0d3b8",
   "metadata": {},
   "outputs": [
    {
     "name": "stdout",
     "output_type": "stream",
     "text": [
      "7\n",
      "8\n"
     ]
    }
   ],
   "source": [
    "# function with return statement \n",
    "def sumz(a,b):\n",
    "    return a+b\n",
    "\n",
    "x = sumz(2,5)\n",
    "print(x) \n",
    "print(x + 1)"
   ]
  },
  {
   "cell_type": "code",
   "execution_count": 13,
   "id": "64401493-5642-4dde-bccb-839091c92c69",
   "metadata": {},
   "outputs": [
    {
     "data": {
      "text/plain": [
       "5.0"
      ]
     },
     "execution_count": 13,
     "metadata": {},
     "output_type": "execute_result"
    }
   ],
   "source": [
    "# taking list as input :\n",
    "def listavg(xlist):\n",
    "    return sum(xlist)/len(xlist)\n",
    "\n",
    "listavg( [1,2,3,4,5,6,7,8,9] )"
   ]
  },
  {
   "cell_type": "markdown",
   "id": "26809158-6c96-4ffa-b873-b2c377df4e8d",
   "metadata": {
    "jp-MarkdownHeadingCollapsed": true,
    "tags": []
   },
   "source": [
    "#### Rule : params, *args, default parameter, **kwargs"
   ]
  },
  {
   "cell_type": "code",
   "execution_count": 14,
   "id": "e5a99e55-a26b-42e7-9230-b85682a23119",
   "metadata": {},
   "outputs": [
    {
     "data": {
      "text/plain": [
       "5.0"
      ]
     },
     "execution_count": 14,
     "metadata": {},
     "output_type": "execute_result"
    }
   ],
   "source": [
    "# taking multiple inputs\n",
    "# *args, **kargs\n",
    "def func(*args):\n",
    "    return sum(args)/len(args)\n",
    "\n",
    "func(1,2,3,4,5,6,7,8,9)"
   ]
  },
  {
   "cell_type": "code",
   "execution_count": 15,
   "id": "44af415c-0406-4e4d-84f9-a5045a350924",
   "metadata": {},
   "outputs": [
    {
     "data": {
      "text/plain": [
       "75"
      ]
     },
     "execution_count": 15,
     "metadata": {},
     "output_type": "execute_result"
    }
   ],
   "source": [
    "# taking multiple inputs\n",
    "# *args, **kargs\n",
    "def funx(*args,**kargs):\n",
    "    sumz = sum(args)\n",
    "    \n",
    "    multi_fac = 0\n",
    "    for i in kargs.values():\n",
    "        multi_fac += i\n",
    "    \n",
    "    return sumz * multi_fac\n",
    "\n",
    "funx(1,2,3,4,5, X=2, Y=3)\n",
    "# sumz = 1+2+3+4+5  = 15\n",
    "# multi_fac = 2 + 3 = 5\n",
    "# returning 15 * 5 = 75"
   ]
  },
  {
   "cell_type": "markdown",
   "id": "1cb7ea0a-6b12-4110-ae6c-5e517684e458",
   "metadata": {
    "jp-MarkdownHeadingCollapsed": true,
    "tags": []
   },
   "source": [
    "#### Returning multiple return statement"
   ]
  },
  {
   "cell_type": "code",
   "execution_count": 16,
   "id": "4a478f01-6f9b-4fba-a776-8b7fab569b66",
   "metadata": {},
   "outputs": [
    {
     "data": {
      "text/plain": [
       "(6, 2, 8, 2.0)"
      ]
     },
     "execution_count": 16,
     "metadata": {},
     "output_type": "execute_result"
    }
   ],
   "source": [
    "def calcu(a,b):\n",
    "    cal1 = a + b\n",
    "    cal2 = a - b\n",
    "    cal3 = a * b\n",
    "    cal4 = a / b\n",
    "    \n",
    "    return cal1, cal2, cal3, cal4\n",
    "\n",
    "calcu(4,2)"
   ]
  },
  {
   "cell_type": "code",
   "execution_count": 17,
   "id": "66ebb5a4-2228-4cae-a442-83a6fa83922e",
   "metadata": {},
   "outputs": [
    {
     "data": {
      "text/plain": [
       "0.5"
      ]
     },
     "execution_count": 17,
     "metadata": {},
     "output_type": "execute_result"
    }
   ],
   "source": [
    "def calcu(a,b,c):\n",
    "    \n",
    "    def add(x,y):\n",
    "        return x + y\n",
    "    def sub(p,q):\n",
    "        return p - q\n",
    "    def multi(s,t):\n",
    "        return s * t\n",
    "    def div(u,v):\n",
    "        return u / v\n",
    "\n",
    "    if c == 'add':\n",
    "        return add(a,b)\n",
    "    elif c == 'sub':\n",
    "        return sub(a,b)\n",
    "    elif c == 'multi':\n",
    "        return multi(a,b)\n",
    "    elif c == 'div':\n",
    "        return div(a,b)\n",
    "    else:\n",
    "        print('Wrong option')\n",
    "        \n",
    "calcu(2,4,'div')"
   ]
  }
 ],
 "metadata": {
  "kernelspec": {
   "display_name": "Python 3 (ipykernel)",
   "language": "python",
   "name": "python3"
  },
  "language_info": {
   "codemirror_mode": {
    "name": "ipython",
    "version": 3
   },
   "file_extension": ".py",
   "mimetype": "text/x-python",
   "name": "python",
   "nbconvert_exporter": "python",
   "pygments_lexer": "ipython3",
   "version": "3.9.7"
  }
 },
 "nbformat": 4,
 "nbformat_minor": 5
}
