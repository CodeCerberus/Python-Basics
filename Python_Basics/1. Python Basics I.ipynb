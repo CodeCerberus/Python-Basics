{
 "cells": [
  {
   "cell_type": "markdown",
   "id": "44b05b09-e62a-4174-bdd3-ef707ceafbc3",
   "metadata": {},
   "source": [
    "### **Python Basics**"
   ]
  },
  {
   "cell_type": "markdown",
   "id": "2c1f327c-fa47-46af-ac84-b3dae4f10864",
   "metadata": {
    "jp-MarkdownHeadingCollapsed": true,
    "tags": []
   },
   "source": [
    "#### Data Types\n",
    "\n",
    "1. Integer : int\n",
    "2. Decimal : float\n",
    "3. String  : str\n",
    "4. Boolean : bool\n"
   ]
  },
  {
   "cell_type": "markdown",
   "id": "bfc1cbef-73f8-4708-89d9-0d5ae821f7dc",
   "metadata": {
    "jp-MarkdownHeadingCollapsed": true,
    "tags": []
   },
   "source": [
    "#### **Variable Assignment**"
   ]
  },
  {
   "cell_type": "code",
   "execution_count": 1,
   "id": "b8285734-6973-4efe-919c-16cf29c6c73e",
   "metadata": {},
   "outputs": [
    {
     "name": "stdout",
     "output_type": "stream",
     "text": [
      "2\n",
      "lol\n",
      "True\n"
     ]
    }
   ],
   "source": [
    "# Multiple Assignment\n",
    "x, y, z = 2, 'lol', True\n",
    "\n",
    "print(x)\n",
    "print(y)\n",
    "print(z)"
   ]
  },
  {
   "cell_type": "code",
   "execution_count": 2,
   "id": "00b6e9af-4981-4e6d-a378-f185dd293932",
   "metadata": {},
   "outputs": [
    {
     "name": "stdout",
     "output_type": "stream",
     "text": [
      "5\n",
      "5\n",
      "5\n"
     ]
    }
   ],
   "source": [
    "# Multiple Assignment\n",
    "x = y = z = 5\n",
    "\n",
    "print(x)\n",
    "print(y)\n",
    "print(z)"
   ]
  },
  {
   "cell_type": "markdown",
   "id": "4e0d731c-4641-4f94-b2f0-255d88058a0e",
   "metadata": {
    "jp-MarkdownHeadingCollapsed": true,
    "tags": []
   },
   "source": [
    "#### **Type Casting**"
   ]
  },
  {
   "cell_type": "code",
   "execution_count": 3,
   "id": "610af6d1-908c-4d29-86e5-b1d6a332b5eb",
   "metadata": {},
   "outputs": [
    {
     "data": {
      "text/plain": [
       "4.0"
      ]
     },
     "execution_count": 3,
     "metadata": {},
     "output_type": "execute_result"
    }
   ],
   "source": [
    "# int to float\n",
    "float(4)"
   ]
  },
  {
   "cell_type": "code",
   "execution_count": 4,
   "id": "697da984-b534-4470-bfec-311cf0dbe83c",
   "metadata": {},
   "outputs": [
    {
     "data": {
      "text/plain": [
       "4"
      ]
     },
     "execution_count": 4,
     "metadata": {},
     "output_type": "execute_result"
    }
   ],
   "source": [
    "# float to int \n",
    "int(4.6)"
   ]
  },
  {
   "cell_type": "code",
   "execution_count": 5,
   "id": "77edde68-0abe-43a8-8ccb-49a56b1401b5",
   "metadata": {},
   "outputs": [
    {
     "data": {
      "text/plain": [
       "101"
      ]
     },
     "execution_count": 5,
     "metadata": {},
     "output_type": "execute_result"
    }
   ],
   "source": [
    "# str to int\n",
    "int('101')"
   ]
  },
  {
   "cell_type": "code",
   "execution_count": 6,
   "id": "fc392d19-0ccc-42d7-a3d9-0df41cd24ee0",
   "metadata": {},
   "outputs": [
    {
     "data": {
      "text/plain": [
       "1.5"
      ]
     },
     "execution_count": 6,
     "metadata": {},
     "output_type": "execute_result"
    }
   ],
   "source": [
    "# str to float\n",
    "float('1.5')"
   ]
  },
  {
   "cell_type": "code",
   "execution_count": 7,
   "id": "b82afe93-e463-4a66-9d89-2a533941a3b3",
   "metadata": {},
   "outputs": [
    {
     "data": {
      "text/plain": [
       "'4'"
      ]
     },
     "execution_count": 7,
     "metadata": {},
     "output_type": "execute_result"
    }
   ],
   "source": [
    "# int/float to str\n",
    "str(4)"
   ]
  },
  {
   "cell_type": "code",
   "execution_count": 8,
   "id": "f755092c-54a6-46b1-ba18-c5c1e79dabaa",
   "metadata": {},
   "outputs": [
    {
     "data": {
      "text/plain": [
       "True"
      ]
     },
     "execution_count": 8,
     "metadata": {},
     "output_type": "execute_result"
    }
   ],
   "source": [
    "# int to bool\n",
    "bool(1)"
   ]
  },
  {
   "cell_type": "code",
   "execution_count": 9,
   "id": "5f593e0d-dcd9-439c-be06-49b8d502e57f",
   "metadata": {},
   "outputs": [
    {
     "data": {
      "text/plain": [
       "False"
      ]
     },
     "execution_count": 9,
     "metadata": {},
     "output_type": "execute_result"
    }
   ],
   "source": [
    "# int to bool\n",
    "bool(0)"
   ]
  },
  {
   "cell_type": "code",
   "execution_count": 10,
   "id": "d34a7fee-85c8-4527-8554-9961eca739bb",
   "metadata": {},
   "outputs": [
    {
     "data": {
      "text/plain": [
       "False"
      ]
     },
     "execution_count": 10,
     "metadata": {},
     "output_type": "execute_result"
    }
   ],
   "source": [
    "bool('')"
   ]
  },
  {
   "cell_type": "markdown",
   "id": "83102250-ed06-4c1d-982b-52cb4088fe66",
   "metadata": {
    "jp-MarkdownHeadingCollapsed": true,
    "tags": []
   },
   "source": [
    "#### **Printing Statement** "
   ]
  },
  {
   "cell_type": "code",
   "execution_count": 11,
   "id": "e19199f0-6f45-4bf3-befa-669c1def3ade",
   "metadata": {},
   "outputs": [
    {
     "name": "stdout",
     "output_type": "stream",
     "text": [
      "Python is a Programming Language & it's version is 3.1\n",
      "Python is a Programming Language & it's version is 3.1\n",
      "Python is a Programming Language & it's version is 3.1\n"
     ]
    }
   ],
   "source": [
    "# Printing the \n",
    "x = 'Python'\n",
    "y = 3.10\n",
    "\n",
    "# 1st Approach\n",
    "print( x + \" is a Programming Language & it's version is \" + str(y) )\n",
    "\n",
    "# 2nd Approach\n",
    "print( x, \"is a Programming Language & it's version is\", y )\n",
    "\n",
    "# 3rd Approach (Formatted String)\n",
    "print( f\"{x} is a Programming Language & it's version is {y}\" )"
   ]
  },
  {
   "cell_type": "markdown",
   "id": "cf22c5d7-f968-4ed5-8514-3964c55e8bf4",
   "metadata": {
    "tags": []
   },
   "source": [
    "#### **String Slicing**"
   ]
  },
  {
   "cell_type": "code",
   "execution_count": 3,
   "id": "ef3a6392-cd30-4f47-835a-1014fad6bc8e",
   "metadata": {},
   "outputs": [],
   "source": [
    "# Defining a String\n",
    "X = 'Machine Language'"
   ]
  },
  {
   "cell_type": "code",
   "execution_count": 1,
   "id": "133a50ea-0de5-4977-96ff-7f680cac2828",
   "metadata": {},
   "outputs": [],
   "source": [
    "# Variable[ Start : End : Step_Size ]"
   ]
  },
  {
   "cell_type": "code",
   "execution_count": 14,
   "id": "1c0d9700-37a8-4788-8a78-429ef1ff7e3d",
   "metadata": {},
   "outputs": [
    {
     "data": {
      "text/plain": [
       "'Machine Language'"
      ]
     },
     "execution_count": 14,
     "metadata": {},
     "output_type": "execute_result"
    }
   ],
   "source": [
    "X[ : ]"
   ]
  },
  {
   "cell_type": "code",
   "execution_count": 15,
   "id": "5ef482a2-8eee-4191-ab14-e20f44d2c676",
   "metadata": {},
   "outputs": [
    {
     "data": {
      "text/plain": [
       "('M', 'i')"
      ]
     },
     "execution_count": 15,
     "metadata": {},
     "output_type": "execute_result"
    }
   ],
   "source": [
    "X[0], X[4]"
   ]
  },
  {
   "cell_type": "code",
   "execution_count": 16,
   "id": "9433da93-32ca-448d-adbe-e72e758030e3",
   "metadata": {},
   "outputs": [
    {
     "data": {
      "text/plain": [
       "('e', 'u')"
      ]
     },
     "execution_count": 16,
     "metadata": {},
     "output_type": "execute_result"
    }
   ],
   "source": [
    "X[-1], X[-4]"
   ]
  },
  {
   "cell_type": "code",
   "execution_count": 17,
   "id": "a647ed53-8157-40c0-ae64-e9e35e2c8abf",
   "metadata": {},
   "outputs": [
    {
     "data": {
      "text/plain": [
       "('Machine', 'Language')"
      ]
     },
     "execution_count": 17,
     "metadata": {},
     "output_type": "execute_result"
    }
   ],
   "source": [
    "X[0 : 7], X[8 :]"
   ]
  },
  {
   "cell_type": "code",
   "execution_count": 4,
   "id": "9bdcaba0-7e40-4f87-86b4-bdc5dcbe4705",
   "metadata": {},
   "outputs": [
    {
     "data": {
      "text/plain": [
       "'McieLnug'"
      ]
     },
     "execution_count": 4,
     "metadata": {},
     "output_type": "execute_result"
    }
   ],
   "source": [
    "X[ : : 2]"
   ]
  },
  {
   "cell_type": "code",
   "execution_count": 5,
   "id": "b623bef6-4146-486c-9182-f11e967f68ca",
   "metadata": {},
   "outputs": [
    {
     "data": {
      "text/plain": [
       "'egaugnaL enihcaM'"
      ]
     },
     "execution_count": 5,
     "metadata": {},
     "output_type": "execute_result"
    }
   ],
   "source": [
    "X[ : : -1]"
   ]
  },
  {
   "cell_type": "markdown",
   "id": "9dacc489-3475-4a45-b431-4729475dd6b5",
   "metadata": {
    "tags": []
   },
   "source": [
    "#### **String Function**\n",
    "##### Strings are Immutable in Nature"
   ]
  },
  {
   "cell_type": "code",
   "execution_count": 20,
   "id": "d9f9ff50-04e4-4696-b6ab-da87222a1756",
   "metadata": {},
   "outputs": [],
   "source": [
    "# Defing string\n",
    "x = 'Python Language'"
   ]
  },
  {
   "cell_type": "code",
   "execution_count": 21,
   "id": "e706234b-6014-4394-8dbd-27d5b764a287",
   "metadata": {},
   "outputs": [
    {
     "data": {
      "text/plain": [
       "16"
      ]
     },
     "execution_count": 21,
     "metadata": {},
     "output_type": "execute_result"
    }
   ],
   "source": [
    "len(X)"
   ]
  },
  {
   "cell_type": "code",
   "execution_count": 22,
   "id": "c0d46561-bb05-49ab-9e17-b8f39f7b25c8",
   "metadata": {},
   "outputs": [
    {
     "data": {
      "text/plain": [
       "'MACHINE LANGUAGE'"
      ]
     },
     "execution_count": 22,
     "metadata": {},
     "output_type": "execute_result"
    }
   ],
   "source": [
    "X.upper()"
   ]
  },
  {
   "cell_type": "code",
   "execution_count": 23,
   "id": "9df35f92-b080-4e20-b578-2214cd2cebab",
   "metadata": {},
   "outputs": [
    {
     "data": {
      "text/plain": [
       "'machine language'"
      ]
     },
     "execution_count": 23,
     "metadata": {},
     "output_type": "execute_result"
    }
   ],
   "source": [
    "X.lower()"
   ]
  },
  {
   "cell_type": "code",
   "execution_count": 24,
   "id": "f90d19c2-a7ea-4473-b121-9f36a6b38551",
   "metadata": {},
   "outputs": [
    {
     "data": {
      "text/plain": [
       "'Machine Language'"
      ]
     },
     "execution_count": 24,
     "metadata": {},
     "output_type": "execute_result"
    }
   ],
   "source": [
    "X.replace('Python','Machine')"
   ]
  },
  {
   "cell_type": "code",
   "execution_count": 25,
   "id": "bc71f598-6c63-4a87-8ea0-4424782a60d4",
   "metadata": {},
   "outputs": [
    {
     "data": {
      "text/plain": [
       "8"
      ]
     },
     "execution_count": 25,
     "metadata": {},
     "output_type": "execute_result"
    }
   ],
   "source": [
    "X.find('Language')"
   ]
  },
  {
   "cell_type": "markdown",
   "id": "1c0d3ff7-b4f3-40d0-8d4a-e371bde75c8a",
   "metadata": {
    "jp-MarkdownHeadingCollapsed": true,
    "tags": []
   },
   "source": [
    "#### **Data Structures**"
   ]
  },
  {
   "cell_type": "markdown",
   "id": "f7b7ee0e-0071-4587-b6c8-e115706d2033",
   "metadata": {
    "tags": []
   },
   "source": [
    "#### **List**\n",
    "List is Oreder Sequence Of Data & is Mutable in Nature"
   ]
  },
  {
   "cell_type": "code",
   "execution_count": 26,
   "id": "e94bcc81-88f2-4ceb-bdb4-764338cadc8c",
   "metadata": {},
   "outputs": [],
   "source": [
    "# Defining List\n",
    "X  = [15, 101, 'Python', 50, 'Language']\n",
    "XX = [14, 40 , ['Machine' , 'Learning']]"
   ]
  },
  {
   "cell_type": "code",
   "execution_count": 27,
   "id": "cbe5be10-701e-4b15-b37e-34a1c70403af",
   "metadata": {},
   "outputs": [
    {
     "data": {
      "text/plain": [
       "101"
      ]
     },
     "execution_count": 27,
     "metadata": {},
     "output_type": "execute_result"
    }
   ],
   "source": [
    "X[1]"
   ]
  },
  {
   "cell_type": "code",
   "execution_count": 28,
   "id": "ae47926d-8774-4857-a249-254de54bb062",
   "metadata": {},
   "outputs": [
    {
     "data": {
      "text/plain": [
       "['Python', 50, 'Language']"
      ]
     },
     "execution_count": 28,
     "metadata": {},
     "output_type": "execute_result"
    }
   ],
   "source": [
    "X[2:]"
   ]
  },
  {
   "cell_type": "code",
   "execution_count": 29,
   "id": "409c85c1-6959-4b5e-8387-e8dc0f742d0e",
   "metadata": {},
   "outputs": [
    {
     "data": {
      "text/plain": [
       "'Learning'"
      ]
     },
     "execution_count": 29,
     "metadata": {},
     "output_type": "execute_result"
    }
   ],
   "source": [
    "XX[2][1]"
   ]
  },
  {
   "cell_type": "code",
   "execution_count": 30,
   "id": "6aa7e4b5-c6fb-4c0d-a573-ed7dd76518f4",
   "metadata": {},
   "outputs": [
    {
     "data": {
      "text/plain": [
       "[15, 101, 'Python', 50, 'Language', 30, 80, ' Version 3.10']"
      ]
     },
     "execution_count": 30,
     "metadata": {},
     "output_type": "execute_result"
    }
   ],
   "source": [
    "X + [30, 80 ,' Version 3.10']"
   ]
  },
  {
   "cell_type": "code",
   "execution_count": 31,
   "id": "3c05c138-3b74-44e6-b982-c59eaaa84066",
   "metadata": {},
   "outputs": [
    {
     "name": "stdout",
     "output_type": "stream",
     "text": [
      "15\n",
      "[101, 'Python', 50]\n",
      "Language\n"
     ]
    }
   ],
   "source": [
    "A, *B, C = X\n",
    "\n",
    "print(A)\n",
    "print(B)\n",
    "print(C)"
   ]
  },
  {
   "cell_type": "code",
   "execution_count": 32,
   "id": "249ca9db-aaa0-4bef-b69e-4cc0b98a1b8e",
   "metadata": {},
   "outputs": [],
   "source": [
    "# Copying List\n",
    "\n",
    "# First Approach\n",
    "to_Copy = X[:]\n",
    "\n",
    "# Second Approach\n",
    "to_copy = X.copy()"
   ]
  },
  {
   "cell_type": "code",
   "execution_count": 33,
   "id": "274f25e8-ffee-49b2-9e8b-ab4f7041a767",
   "metadata": {},
   "outputs": [
    {
     "data": {
      "text/plain": [
       "[15, 101, 'Python', 50, 'Language', [15, 20]]"
      ]
     },
     "execution_count": 33,
     "metadata": {},
     "output_type": "execute_result"
    }
   ],
   "source": [
    "# Appending the List\n",
    "\n",
    "X  = [15, 101, 'Python', 50, 'Language']\n",
    "X.append([15,20])\n",
    "X"
   ]
  },
  {
   "cell_type": "code",
   "execution_count": 34,
   "id": "79d295e7-f2c5-470f-a8b8-8db45b30606d",
   "metadata": {},
   "outputs": [
    {
     "data": {
      "text/plain": [
       "[15, 101, 'Python', 50, 'Language', 'Google', 'Microsft']"
      ]
     },
     "execution_count": 34,
     "metadata": {},
     "output_type": "execute_result"
    }
   ],
   "source": [
    "# Extending the List\n",
    "\n",
    "X = [15, 101, 'Python', 50, 'Language']\n",
    "X.extend(['Google', 'Microsft'])\n",
    "X"
   ]
  },
  {
   "cell_type": "code",
   "execution_count": 35,
   "id": "a1535ea2-022d-4059-a5d3-b79c16d09275",
   "metadata": {},
   "outputs": [
    {
     "data": {
      "text/plain": [
       "[15, 101, 50, 'Language']"
      ]
     },
     "execution_count": 35,
     "metadata": {},
     "output_type": "execute_result"
    }
   ],
   "source": [
    "# Removing Item\n",
    "\n",
    "X = [15, 101, 'Python', 50, 'Language']\n",
    "X.remove('Python')\n",
    "X"
   ]
  },
  {
   "cell_type": "code",
   "execution_count": 36,
   "id": "3406a745-2873-4ca4-ae35-79152393ac68",
   "metadata": {},
   "outputs": [
    {
     "data": {
      "text/plain": [
       "'Language'"
      ]
     },
     "execution_count": 36,
     "metadata": {},
     "output_type": "execute_result"
    }
   ],
   "source": [
    "# Poping Items\n",
    "\n",
    "X = [15, 101, 'Python', 50, 'Language']\n",
    "X.pop()"
   ]
  },
  {
   "cell_type": "code",
   "execution_count": 37,
   "id": "c5652968-aaaf-4b3d-b5d5-4726607579eb",
   "metadata": {},
   "outputs": [
    {
     "data": {
      "text/plain": [
       "'Python'"
      ]
     },
     "execution_count": 37,
     "metadata": {},
     "output_type": "execute_result"
    }
   ],
   "source": [
    "# Poping Items\n",
    "\n",
    "X = [15, 101, 'Python', 50, 'Language']\n",
    "X.pop(2)"
   ]
  },
  {
   "cell_type": "code",
   "execution_count": 38,
   "id": "9eb3ed9d-8e0c-4406-aff5-dc94047d96c5",
   "metadata": {},
   "outputs": [
    {
     "data": {
      "text/plain": [
       "[15, 25, 50, 80, 101]"
      ]
     },
     "execution_count": 38,
     "metadata": {},
     "output_type": "execute_result"
    }
   ],
   "source": [
    "# Sorting Items\n",
    "\n",
    "X = [15, 101, 25, 50, 80]\n",
    "X.sort()\n",
    "X"
   ]
  },
  {
   "cell_type": "code",
   "execution_count": 39,
   "id": "c308285f-21c6-45ff-8d55-35f646f9fa26",
   "metadata": {},
   "outputs": [
    {
     "data": {
      "text/plain": [
       "1"
      ]
     },
     "execution_count": 39,
     "metadata": {},
     "output_type": "execute_result"
    }
   ],
   "source": [
    "# Counting Items\n",
    "\n",
    "X = [15, 101, 'Python', 50, 'Language']\n",
    "X.count('Python')"
   ]
  },
  {
   "cell_type": "code",
   "execution_count": 40,
   "id": "89f97038-b6c8-4d1c-a207-dd5dc3d80763",
   "metadata": {},
   "outputs": [
    {
     "data": {
      "text/plain": [
       "116"
      ]
     },
     "execution_count": 40,
     "metadata": {},
     "output_type": "execute_result"
    }
   ],
   "source": [
    "# Summing Up Items\n",
    "\n",
    "X = [1, 20, 40, 50, 5]\n",
    "sum(X)"
   ]
  },
  {
   "cell_type": "code",
   "execution_count": 41,
   "id": "00e26ffd-4fb8-48e1-98db-729a6b414f27",
   "metadata": {},
   "outputs": [
    {
     "data": {
      "text/plain": [
       "5"
      ]
     },
     "execution_count": 41,
     "metadata": {},
     "output_type": "execute_result"
    }
   ],
   "source": [
    "# Total Number of Items\n",
    "\n",
    "X = [15, 101, 'Python', 50, 'Language']\n",
    "len(X)"
   ]
  },
  {
   "cell_type": "code",
   "execution_count": 42,
   "id": "f20ce817-3c72-4bda-b63d-ce80b6bde869",
   "metadata": {},
   "outputs": [
    {
     "name": "stdout",
     "output_type": "stream",
     "text": [
      "15 101\n"
     ]
    }
   ],
   "source": [
    "# Max Value & Min Value\n",
    "\n",
    "X = [15, 101, 25, 50, 30]\n",
    "\n",
    "print(min(X) ,max(X))"
   ]
  },
  {
   "cell_type": "code",
   "execution_count": 43,
   "id": "47036776-5160-484c-91ff-fd0f0ea5f4a9",
   "metadata": {},
   "outputs": [
    {
     "data": {
      "text/plain": [
       "['Python', 'version', '3.10']"
      ]
     },
     "execution_count": 43,
     "metadata": {},
     "output_type": "execute_result"
    }
   ],
   "source": [
    "# Splitting the String into List\n",
    "\n",
    "X = 'Python version 3.10'\n",
    "\n",
    "X.split()"
   ]
  },
  {
   "cell_type": "code",
   "execution_count": 44,
   "id": "9173eee8-b07f-428d-9b53-d4f41cf99da6",
   "metadata": {},
   "outputs": [
    {
     "name": "stdout",
     "output_type": "stream",
     "text": [
      "X has been Removed\n"
     ]
    }
   ],
   "source": [
    "# Deleting the List\n",
    "\n",
    "X = [15, 101, 'Python', 50, 'Language']\n",
    "\n",
    "del X\n",
    "try:\n",
    "    X\n",
    "except:\n",
    "    print('X has been Removed')"
   ]
  },
  {
   "cell_type": "code",
   "execution_count": 45,
   "id": "f090f012-dc2f-411d-847c-006b6d67baaa",
   "metadata": {},
   "outputs": [
    {
     "data": {
      "text/plain": [
       "['BGMI', 'Free Fire', 'Apex Legends']"
      ]
     },
     "execution_count": 45,
     "metadata": {},
     "output_type": "execute_result"
    }
   ],
   "source": [
    "# List is Mutable in Nature \n",
    "games = ['PUBG' , 'Free Fire', 'Apex Legends']\n",
    "games[0] = 'BGMI'\n",
    "games"
   ]
  },
  {
   "cell_type": "markdown",
   "id": "41d44bff-f757-4c9d-8825-e72bdc781401",
   "metadata": {
    "jp-MarkdownHeadingCollapsed": true,
    "tags": []
   },
   "source": [
    "#### **Tuple**\n",
    "Tuple is Oredered Sequence of Data & is Immutable in Nature"
   ]
  },
  {
   "cell_type": "code",
   "execution_count": 46,
   "id": "3ccb2572-ddc2-460b-8423-3729190bf9ab",
   "metadata": {},
   "outputs": [],
   "source": [
    "# Defining Tuple\n",
    "\n",
    "X = (1, 30, 52, 10)\n",
    "Y = (20, 50 , 'Python', 'Language', ('Machine', 'Learning'))"
   ]
  },
  {
   "cell_type": "code",
   "execution_count": 47,
   "id": "e56d4396-f28e-4d17-aa73-c11bb49e8f48",
   "metadata": {},
   "outputs": [
    {
     "data": {
      "text/plain": [
       "30"
      ]
     },
     "execution_count": 47,
     "metadata": {},
     "output_type": "execute_result"
    }
   ],
   "source": [
    "# Slicing Tuple\n",
    "\n",
    "X = (1, 30, 52, 10)\n",
    "X[1]"
   ]
  },
  {
   "cell_type": "code",
   "execution_count": 48,
   "id": "b8c8735a-72dc-4c9d-8914-eac8e34c45db",
   "metadata": {},
   "outputs": [
    {
     "data": {
      "text/plain": [
       "'Machine'"
      ]
     },
     "execution_count": 48,
     "metadata": {},
     "output_type": "execute_result"
    }
   ],
   "source": [
    "# Slicing Tuple\n",
    "\n",
    "X = (1, 30, 52, 10, ('Machine', 'Learning'))\n",
    "X[4][0]"
   ]
  },
  {
   "cell_type": "code",
   "execution_count": 49,
   "id": "5a2508eb-1dd8-412a-8df0-d99374eab4f0",
   "metadata": {},
   "outputs": [
    {
     "data": {
      "text/plain": [
       "(1, 30, 52, 10, 10, 20, 30)"
      ]
     },
     "execution_count": 49,
     "metadata": {},
     "output_type": "execute_result"
    }
   ],
   "source": [
    "# Adding Tuple\n",
    "\n",
    "X = (1, 30, 52, 10)\n",
    "X + (10, 20, 30)"
   ]
  },
  {
   "cell_type": "code",
   "execution_count": 50,
   "id": "20234d88-60ed-4005-8a4f-b50a3c9af531",
   "metadata": {},
   "outputs": [
    {
     "data": {
      "text/plain": [
       "3"
      ]
     },
     "execution_count": 50,
     "metadata": {},
     "output_type": "execute_result"
    }
   ],
   "source": [
    "# Counting Items\n",
    "X = (1, 30, 52, 10, 30, 40, 30)\n",
    "X.count(30)"
   ]
  },
  {
   "cell_type": "code",
   "execution_count": 51,
   "id": "ccc22627-c06f-4f4c-8ad8-3ba5e4fed476",
   "metadata": {},
   "outputs": [
    {
     "ename": "TypeError",
     "evalue": "'tuple' object does not support item assignment",
     "output_type": "error",
     "traceback": [
      "\u001b[1;31m---------------------------------------------------------------------------\u001b[0m",
      "\u001b[1;31mTypeError\u001b[0m                                 Traceback (most recent call last)",
      "\u001b[1;32m~\\AppData\\Local\\Temp/ipykernel_2828/3497682690.py\u001b[0m in \u001b[0;36m<module>\u001b[1;34m\u001b[0m\n\u001b[0;32m      1\u001b[0m \u001b[1;31m# Tuples are not Mutable in nature\u001b[0m\u001b[1;33m\u001b[0m\u001b[1;33m\u001b[0m\u001b[0m\n\u001b[0;32m      2\u001b[0m \u001b[0mgames\u001b[0m \u001b[1;33m=\u001b[0m \u001b[1;33m(\u001b[0m\u001b[1;34m'PUBG'\u001b[0m \u001b[1;33m,\u001b[0m \u001b[1;34m'Free Fire'\u001b[0m\u001b[1;33m,\u001b[0m \u001b[1;34m'Apex Legends'\u001b[0m\u001b[1;33m)\u001b[0m\u001b[1;33m\u001b[0m\u001b[1;33m\u001b[0m\u001b[0m\n\u001b[1;32m----> 3\u001b[1;33m \u001b[0mgames\u001b[0m\u001b[1;33m[\u001b[0m\u001b[1;36m0\u001b[0m\u001b[1;33m]\u001b[0m \u001b[1;33m=\u001b[0m \u001b[1;34m'BGMI'\u001b[0m\u001b[1;33m\u001b[0m\u001b[1;33m\u001b[0m\u001b[0m\n\u001b[0m\u001b[0;32m      4\u001b[0m \u001b[0mgames\u001b[0m\u001b[1;33m\u001b[0m\u001b[1;33m\u001b[0m\u001b[0m\n",
      "\u001b[1;31mTypeError\u001b[0m: 'tuple' object does not support item assignment"
     ]
    }
   ],
   "source": [
    "# Tuples are not Mutable in nature\n",
    "games = ('PUBG' , 'Free Fire', 'Apex Legends')\n",
    "games[0] = 'BGMI'\n",
    "games"
   ]
  },
  {
   "cell_type": "markdown",
   "id": "12d76cdc-8970-4c8c-88c7-bc66a14c0c90",
   "metadata": {
    "jp-MarkdownHeadingCollapsed": true,
    "tags": []
   },
   "source": [
    "#### **Dictionary**\n",
    "\n",
    "Consists of Key - Values pair\n",
    "\n",
    "    * Keys can be int or str\n",
    "    * Keys are Unique & Immutable in Nature\n",
    "    * Values can be Mutable or even Duplicate"
   ]
  },
  {
   "cell_type": "code",
   "execution_count": 52,
   "id": "6bc458a2-e1ac-4057-8db5-42b66a6e4c64",
   "metadata": {},
   "outputs": [],
   "source": [
    "# Defining Dictionary\n",
    "# Dict = {Keys : Values}\n",
    "date_data = list(range(1,6)) \n",
    "Calendar  = {'days':['Mon','Tues','Wed','Thrus','Friday'], 'date':date_data}"
   ]
  },
  {
   "cell_type": "code",
   "execution_count": 53,
   "id": "2b89296c-bfd4-4437-84f3-7fd92201c3f7",
   "metadata": {},
   "outputs": [
    {
     "data": {
      "text/plain": [
       "'Default Value: Key Not Present'"
      ]
     },
     "execution_count": 53,
     "metadata": {},
     "output_type": "execute_result"
    }
   ],
   "source": [
    "# calandar values \n",
    "\n",
    "# First Approach ** Returns Error if Key not present **\n",
    "Calendar['days']\n",
    "\n",
    "# second Approach ** Returns default value if Key not present **\n",
    "Calendar.get('Python Version', 'Default Value: Key Not Present')"
   ]
  },
  {
   "cell_type": "code",
   "execution_count": 54,
   "id": "5a6b5966-829d-44b2-84b4-c1bd0c8b6336",
   "metadata": {},
   "outputs": [
    {
     "data": {
      "text/plain": [
       "dict_keys(['days', 'date'])"
      ]
     },
     "execution_count": 54,
     "metadata": {},
     "output_type": "execute_result"
    }
   ],
   "source": [
    "# returns keys \n",
    "\n",
    "Calendar.keys()"
   ]
  },
  {
   "cell_type": "code",
   "execution_count": 55,
   "id": "17d6962f-c903-4e5b-a23a-fa9919b5b73a",
   "metadata": {},
   "outputs": [
    {
     "data": {
      "text/plain": [
       "dict_values([['Mon', 'Tues', 'Wed', 'Thrus', 'Friday'], [1, 2, 3, 4, 5]])"
      ]
     },
     "execution_count": 55,
     "metadata": {},
     "output_type": "execute_result"
    }
   ],
   "source": [
    "# returns Values associate to Keys\n",
    "\n",
    "Calendar.values()"
   ]
  },
  {
   "cell_type": "code",
   "execution_count": 56,
   "id": "254e69cf-7c6e-4e1d-bbdb-4f9ad513d3d8",
   "metadata": {},
   "outputs": [
    {
     "data": {
      "text/plain": [
       "dict_items([('days', ['Mon', 'Tues', 'Wed', 'Thrus', 'Friday']), ('date', [1, 2, 3, 4, 5])])"
      ]
     },
     "execution_count": 56,
     "metadata": {},
     "output_type": "execute_result"
    }
   ],
   "source": [
    "# returns Keys along with there Values\n",
    "\n",
    "Calendar.items()"
   ]
  },
  {
   "cell_type": "code",
   "execution_count": 57,
   "id": "42b4b0a6-46a1-4175-8148-9e57d0dbf93f",
   "metadata": {},
   "outputs": [
    {
     "data": {
      "text/plain": [
       "['date', 'days']"
      ]
     },
     "execution_count": 57,
     "metadata": {},
     "output_type": "execute_result"
    }
   ],
   "source": [
    "# sorting based on Keys\n",
    "\n",
    "sorted(Calendar)"
   ]
  },
  {
   "cell_type": "code",
   "execution_count": 58,
   "id": "eaa709b6-c3f6-41fb-b527-4bd4b626c250",
   "metadata": {},
   "outputs": [
    {
     "data": {
      "text/plain": [
       "{'days': ['Mon', 'Tues', 'Wed', 'Thrus', 'Friday'],\n",
       " 'date': [1, 2, 3, 4, 5],\n",
       " 'Python Version': 3.1}"
      ]
     },
     "execution_count": 58,
     "metadata": {},
     "output_type": "execute_result"
    }
   ],
   "source": [
    "# Updating/ Adding the values in dictionary\n",
    "\n",
    "X = {'Python Version':3.10}\n",
    "Calendar.update(X)\n",
    "Calendar"
   ]
  },
  {
   "cell_type": "code",
   "execution_count": 59,
   "id": "6c6547c1-a506-427c-bfb6-2d6153bdd946",
   "metadata": {},
   "outputs": [
    {
     "data": {
      "text/plain": [
       "{'Python Version': 3.1}"
      ]
     },
     "execution_count": 59,
     "metadata": {},
     "output_type": "execute_result"
    }
   ],
   "source": [
    "# Updating/ Adding the values in dictionary\n",
    "X = {'Python Version':3.9}\n",
    "X['Python Version'] = 3.10\n",
    "X"
   ]
  },
  {
   "cell_type": "markdown",
   "id": "7090d2ed-a520-451f-a8d6-185bf1f60823",
   "metadata": {
    "tags": []
   },
   "source": [
    "#### **Sets**\n",
    "Unoredered Collection of Unique Data & Duplicate Values are Eliminated Automatically if any present during execution"
   ]
  },
  {
   "cell_type": "code",
   "execution_count": 11,
   "id": "cbefe2c2-64a0-47ae-9ec3-295b3711266a",
   "metadata": {},
   "outputs": [
    {
     "data": {
      "text/plain": [
       "{1, 2, 5, 8, 9, 10}"
      ]
     },
     "execution_count": 11,
     "metadata": {},
     "output_type": "execute_result"
    }
   ],
   "source": [
    "# Defining set\n",
    "X = {1, 5, 5, 10, 10, 2, 8, 5, 2, 1, 9}\n",
    "X"
   ]
  },
  {
   "cell_type": "code",
   "execution_count": 61,
   "id": "13cd4ca8-1f6b-4f20-83b7-c6c2439ad5cc",
   "metadata": {},
   "outputs": [
    {
     "data": {
      "text/plain": [
       "{1, 2, 5, 8, 9, 10, 20}"
      ]
     },
     "execution_count": 61,
     "metadata": {},
     "output_type": "execute_result"
    }
   ],
   "source": [
    "# To add Item to set\n",
    "X.add(20)\n",
    "X"
   ]
  },
  {
   "cell_type": "code",
   "execution_count": 62,
   "id": "7c8e5c9c-cd11-48a9-acde-21534f6b32a2",
   "metadata": {},
   "outputs": [
    {
     "data": {
      "text/plain": [
       "{1, 2, 5, 8, 9, 10}"
      ]
     },
     "execution_count": 62,
     "metadata": {},
     "output_type": "execute_result"
    }
   ],
   "source": [
    "# To Remove Item from Set\n",
    "X.remove(20)     # Returns Error if Item not Preset\n",
    "# Or\n",
    "X.discard(20)    # Doesn't return Error \n",
    "\n",
    "X"
   ]
  },
  {
   "cell_type": "code",
   "execution_count": 63,
   "id": "1208165c-1ac3-485b-8594-6ec9363cbafb",
   "metadata": {},
   "outputs": [
    {
     "data": {
      "text/plain": [
       "set()"
      ]
     },
     "execution_count": 63,
     "metadata": {},
     "output_type": "execute_result"
    }
   ],
   "source": [
    "# To remove all Items from Set\n",
    "X.clear()\n",
    "X"
   ]
  },
  {
   "cell_type": "markdown",
   "id": "1a870be7-4f08-4bd5-91d1-4b622eddbd17",
   "metadata": {
    "tags": []
   },
   "source": [
    "#### Vien Diagram Operations On Sets ###"
   ]
  },
  {
   "cell_type": "code",
   "execution_count": 64,
   "id": "1f56bf21-56c1-4066-85cc-37f3a7590b88",
   "metadata": {},
   "outputs": [],
   "source": [
    "### Defining Sets \n",
    "\n",
    "X = {1, 2, 3, 'Hello'}\n",
    "Y = {3, 4, 5, 'World'}"
   ]
  },
  {
   "cell_type": "code",
   "execution_count": 65,
   "id": "d00c7d85-d771-4868-8322-523d6226a79b",
   "metadata": {},
   "outputs": [
    {
     "data": {
      "text/plain": [
       "{3}"
      ]
     },
     "execution_count": 65,
     "metadata": {},
     "output_type": "execute_result"
    }
   ],
   "source": [
    "# Intersection \n",
    "X & Y\n",
    "# Or\n",
    "X.intersection(Y)"
   ]
  },
  {
   "cell_type": "code",
   "execution_count": 66,
   "id": "a74c7900-a2c2-437f-b15e-945aa1149beb",
   "metadata": {},
   "outputs": [
    {
     "data": {
      "text/plain": [
       "{1, 2, 3, 4, 5, 'Hello', 'World'}"
      ]
     },
     "execution_count": 66,
     "metadata": {},
     "output_type": "execute_result"
    }
   ],
   "source": [
    "# Union\n",
    "X.union(Y)"
   ]
  },
  {
   "cell_type": "code",
   "execution_count": 67,
   "id": "4fc58040-37ad-4bca-8184-da1b1ca79652",
   "metadata": {},
   "outputs": [
    {
     "data": {
      "text/plain": [
       "False"
      ]
     },
     "execution_count": 67,
     "metadata": {},
     "output_type": "execute_result"
    }
   ],
   "source": [
    "# is subset\n",
    "X.issubset(Y)"
   ]
  },
  {
   "cell_type": "code",
   "execution_count": 68,
   "id": "c795c905-0bb4-4362-a367-90e6d686d7fc",
   "metadata": {},
   "outputs": [
    {
     "data": {
      "text/plain": [
       "{1, 2, 'Hello'}"
      ]
     },
     "execution_count": 68,
     "metadata": {},
     "output_type": "execute_result"
    }
   ],
   "source": [
    "# Difference of Sets\n",
    "X.difference(Y)"
   ]
  },
  {
   "cell_type": "code",
   "execution_count": 69,
   "id": "7ddc9f16-5952-4f39-9e8a-627e0caafdc2",
   "metadata": {},
   "outputs": [
    {
     "data": {
      "text/plain": [
       "False"
      ]
     },
     "execution_count": 69,
     "metadata": {},
     "output_type": "execute_result"
    }
   ],
   "source": [
    "# is disjoint ('False' If any common element exists)\n",
    "X.isdisjoint(Y)"
   ]
  },
  {
   "cell_type": "code",
   "execution_count": null,
   "id": "0476d3a4-2d9e-4e50-b7d0-68cce47c0802",
   "metadata": {},
   "outputs": [],
   "source": []
  }
 ],
 "metadata": {
  "kernelspec": {
   "display_name": "Python 3 (ipykernel)",
   "language": "python",
   "name": "python3"
  },
  "language_info": {
   "codemirror_mode": {
    "name": "ipython",
    "version": 3
   },
   "file_extension": ".py",
   "mimetype": "text/x-python",
   "name": "python",
   "nbconvert_exporter": "python",
   "pygments_lexer": "ipython3",
   "version": "3.9.7"
  }
 },
 "nbformat": 4,
 "nbformat_minor": 5
}
